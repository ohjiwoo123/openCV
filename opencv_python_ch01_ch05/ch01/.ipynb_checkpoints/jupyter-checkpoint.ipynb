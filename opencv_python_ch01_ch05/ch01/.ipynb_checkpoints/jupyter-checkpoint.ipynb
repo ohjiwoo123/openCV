{
 "cells": [
  {
   "cell_type": "code",
   "execution_count": 17,
   "metadata": {},
   "outputs": [],
   "source": [
    "import cv2\n",
    "import matplotlib.pyplot as plt"
   ]
  },
  {
   "cell_type": "code",
   "execution_count": null,
   "metadata": {},
   "outputs": [],
   "source": [
    "# opencv의 imshow함수 -> jupyter notebook에서는 잘 안씀 .py\n",
    "cv2.imshow('win',img)\n",
    "\n",
    "while True:\n",
    "    # ESC 키\n",
    "    if cv2.waitKey(100)==27:\n",
    "        break\n",
    "\n",
    "cv2.destroyAllWindows('win')\n"
   ]
  },
  {
   "cell_type": "code",
   "execution_count": null,
   "metadata": {},
   "outputs": [],
   "source": [
    "# 세로 X 가로 X 채널(컬러)\n",
    "img.shape"
   ]
  },
  {
   "cell_type": "code",
   "execution_count": null,
   "metadata": {},
   "outputs": [],
   "source": [
    "# matplotlib은 채널의 순서를 r, g, b\n",
    "# matplotlib으로 그림을 그리려면 bgr -> rgb : convert Color\n",
    "plt.imshow(cv2.cvtColor(img, cv2.COLOR_BGR2RGB))\n",
    "plt.show"
   ]
  }
 ],
 "metadata": {
  "kernelspec": {
   "display_name": "Python 3",
   "language": "python",
   "name": "python3"
  },
  "language_info": {
   "codemirror_mode": {
    "name": "ipython",
    "version": 3
   },
   "file_extension": ".py",
   "mimetype": "text/x-python",
   "name": "python",
   "nbconvert_exporter": "python",
   "pygments_lexer": "ipython3",
   "version": "3.7.10"
  }
 },
 "nbformat": 4,
 "nbformat_minor": 4
}

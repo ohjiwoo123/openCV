{
 "cells": [
  {
   "cell_type": "code",
   "execution_count": null,
   "id": "8507ddb0",
   "metadata": {},
   "outputs": [],
   "source": [
    "# 얕은복사"
   ]
  },
  {
   "cell_type": "code",
   "execution_count": 1,
   "id": "293f5c87",
   "metadata": {},
   "outputs": [],
   "source": [
    "a = [1,2,3]"
   ]
  },
  {
   "cell_type": "code",
   "execution_count": 2,
   "id": "410313fb",
   "metadata": {},
   "outputs": [],
   "source": [
    "b= a # 얕은 복사(shallow copy)\n",
    "b[0]=5"
   ]
  },
  {
   "cell_type": "code",
   "execution_count": 3,
   "id": "b20f9c8b",
   "metadata": {},
   "outputs": [
    {
     "data": {
      "text/plain": [
       "[5, 2, 3]"
      ]
     },
     "execution_count": 3,
     "metadata": {},
     "output_type": "execute_result"
    }
   ],
   "source": [
    "a"
   ]
  },
  {
   "cell_type": "code",
   "execution_count": 4,
   "id": "99f672d7",
   "metadata": {},
   "outputs": [
    {
     "data": {
      "text/plain": [
       "140294124762848"
      ]
     },
     "execution_count": 4,
     "metadata": {},
     "output_type": "execute_result"
    }
   ],
   "source": [
    "id(a)"
   ]
  },
  {
   "cell_type": "code",
   "execution_count": 5,
   "id": "540febf9",
   "metadata": {},
   "outputs": [
    {
     "data": {
      "text/plain": [
       "140294124762848"
      ]
     },
     "execution_count": 5,
     "metadata": {},
     "output_type": "execute_result"
    }
   ],
   "source": [
    "id(a)"
   ]
  },
  {
   "cell_type": "code",
   "execution_count": 6,
   "id": "a3e8d6d7",
   "metadata": {},
   "outputs": [],
   "source": [
    "# 깊은복사"
   ]
  },
  {
   "cell_type": "code",
   "execution_count": 9,
   "id": "cf8fd291",
   "metadata": {},
   "outputs": [],
   "source": [
    "import copy\n",
    "\n",
    "a = [1,2,3]\n",
    "b = copy.deepcopy(a)"
   ]
  },
  {
   "cell_type": "code",
   "execution_count": 15,
   "id": "06001395",
   "metadata": {},
   "outputs": [],
   "source": [
    "b[0]=5"
   ]
  },
  {
   "cell_type": "code",
   "execution_count": 16,
   "id": "5e22d3c9",
   "metadata": {},
   "outputs": [
    {
     "data": {
      "text/plain": [
       "[1, 2, 3]"
      ]
     },
     "execution_count": 16,
     "metadata": {},
     "output_type": "execute_result"
    }
   ],
   "source": [
    "a"
   ]
  },
  {
   "cell_type": "code",
   "execution_count": 17,
   "id": "3e39a666",
   "metadata": {},
   "outputs": [
    {
     "data": {
      "text/plain": [
       "[5, 2, 3, 5]"
      ]
     },
     "execution_count": 17,
     "metadata": {},
     "output_type": "execute_result"
    }
   ],
   "source": [
    "b"
   ]
  },
  {
   "cell_type": "code",
   "execution_count": 13,
   "id": "2695bd41",
   "metadata": {},
   "outputs": [
    {
     "data": {
      "text/plain": [
       "140294125644768"
      ]
     },
     "execution_count": 13,
     "metadata": {},
     "output_type": "execute_result"
    }
   ],
   "source": [
    "id(a)"
   ]
  },
  {
   "cell_type": "code",
   "execution_count": 14,
   "id": "0c9af43e",
   "metadata": {},
   "outputs": [
    {
     "data": {
      "text/plain": [
       "140294125402944"
      ]
     },
     "execution_count": 14,
     "metadata": {},
     "output_type": "execute_result"
    }
   ],
   "source": [
    "id(b)"
   ]
  },
  {
   "cell_type": "code",
   "execution_count": null,
   "id": "11f28885",
   "metadata": {},
   "outputs": [],
   "source": []
  }
 ],
 "metadata": {
  "kernelspec": {
   "display_name": "Python 3",
   "language": "python",
   "name": "python3"
  },
  "language_info": {
   "codemirror_mode": {
    "name": "ipython",
    "version": 3
   },
   "file_extension": ".py",
   "mimetype": "text/x-python",
   "name": "python",
   "nbconvert_exporter": "python",
   "pygments_lexer": "ipython3",
   "version": "3.7.10"
  }
 },
 "nbformat": 4,
 "nbformat_minor": 5
}
